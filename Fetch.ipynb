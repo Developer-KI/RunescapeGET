{
 "cells": [
  {
   "cell_type": "code",
   "execution_count": 2,
   "id": "ab430a52",
   "metadata": {},
   "outputs": [],
   "source": [
    "import requests\n",
    "import pandas as pd\n",
    "\n",
    "headers = {\n",
    "    'User-Agent': 'Price/Volume Tracker and Scraper- NoHFT',\n",
    "    'From': 'mstavreff@outlook.com, discord: shrimpsalad'\n",
    "}"
   ]
  },
  {
   "cell_type": "code",
   "execution_count": 3,
   "id": "5009e57f",
   "metadata": {},
   "outputs": [],
   "source": [
    "def fetch_latest(item_id: str):\n",
    "    url = f\"https://api.weirdgloop.org/exchange/history/osrs/latest?id={item_id}\"\n",
    "    response = requests.get(url, headers=headers)\n",
    "\n",
    "    if response.status_code == 200:\n",
    "        data = response.json()\n",
    "    else:\n",
    "        print(\"Failed to fetch data. Check the item ID or API status.\")\n",
    "\n",
    "def fetch_5min(timestamp: int):\n",
    "    url = f\"https://prices.runescape.wiki/api/v1/osrs/5m?timestamp={timestamp}\"\n",
    "    response = requests.get(url, headers=headers)\n",
    "\n",
    "    if response.status_code == 200:\n",
    "        data = response.json()\n",
    "        df = pd.DataFrame.from_dict(data['data'], orient='index')\n",
    "        return df\n",
    "    else:\n",
    "        print(\"Failed to fetch data. Check the item ID or API status.\")\n",
    "\n",
    "def fetch_historical(item_id: int):\n",
    "    url = f\"https://api.weirdgloop.org/exchange/history/osrs/all?id={item_id}\"\n",
    "    response = requests.get(url, headers=headers)\n",
    "\n",
    "    if response.status_code == 200:\n",
    "        data = response.json()\n",
    "\n",
    "        records = []\n",
    "        for item_id, entries in data.items():\n",
    "            for entry in entries:\n",
    "                records.append(entry)\n",
    "\n",
    "        df = pd.DataFrame(records)\n",
    "        df['timestamp'] = pd.to_datetime(df['timestamp'], unit='ms')\n",
    "\n",
    "        return df\n",
    "    else:\n",
    "        print(\"Failed to fetch data. Check the item ID or API status.\")"
   ]
  },
  {
   "cell_type": "code",
   "execution_count": 4,
   "id": "ef974f93",
   "metadata": {},
   "outputs": [
    {
     "name": "stdout",
     "output_type": "stream",
     "text": [
      "       id  price      volume           timestamp\n",
      "0     561    282         NaN 2015-03-28 00:00:00\n",
      "1     561    281         NaN 2015-03-29 00:00:00\n",
      "2     561    278         NaN 2015-03-30 00:00:00\n",
      "3     561    274         NaN 2015-03-31 00:00:00\n",
      "4     561    272         NaN 2015-04-01 00:00:00\n",
      "...   ...    ...         ...                 ...\n",
      "3596  561    115  81842102.0 2025-05-06 17:27:00\n",
      "3597  561    114  33389500.0 2025-05-07 06:56:19\n",
      "3598  561    114  77521012.0 2025-05-08 18:34:53\n",
      "3599  561    113  55850407.0 2025-05-09 19:40:47\n",
      "3600  561    113  22025456.0 2025-05-10 04:58:38\n",
      "\n",
      "[3601 rows x 4 columns]\n"
     ]
    }
   ],
   "source": [
    "# Testing\n",
    "print(fetch_historical(561))"
   ]
  }
 ],
 "metadata": {
  "kernelspec": {
   "display_name": ".venv",
   "language": "python",
   "name": "python3"
  },
  "language_info": {
   "codemirror_mode": {
    "name": "ipython",
    "version": 3
   },
   "file_extension": ".py",
   "mimetype": "text/x-python",
   "name": "python",
   "nbconvert_exporter": "python",
   "pygments_lexer": "ipython3",
   "version": "3.13.3"
  }
 },
 "nbformat": 4,
 "nbformat_minor": 5
}
