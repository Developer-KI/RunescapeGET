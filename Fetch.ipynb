{
 "cells": [
  {
   "cell_type": "code",
   "execution_count": 2,
   "id": "ab430a52",
   "metadata": {},
   "outputs": [],
   "source": [
    "import requests\n",
    "import pandas as pd\n",
    "\n",
    "headers = {\n",
    "    'User-Agent': 'Price/Volume Tracker and Scraper- NoHFT',\n",
    "    'From': 'mstavreff@outlook.com, discord: shrimpsalad'\n",
    "}"
   ]
  },
  {
   "cell_type": "code",
   "execution_count": null,
   "id": "5009e57f",
   "metadata": {},
   "outputs": [],
   "source": [
    "def fetch_latest(item_id: list[int]):\n",
    "    item_id = list(map(str, item_id))\n",
    "    item_call = '|'.join([i for i in item_id])\n",
    "    \n",
    "    url = f\"https://api.weirdgloop.org/exchange/history/osrs/latest?id={item_call}\"\n",
    "    response = requests.get(url, headers=headers)\n",
    "\n",
    "    if response.status_code == 200:\n",
    "        data = response.json()\n",
    "    else:\n",
    "        print(\"Failed to fetch data. Check the item ID or API status.\")\n",
    "\n",
    "def fetch_5min(timestamp: int):\n",
    "    url = f\"https://prices.runescape.wiki/api/v1/osrs/5m?timestamp={timestamp}\"\n",
    "    response = requests.get(url, headers=headers)\n",
    "\n",
    "    if response.status_code == 200:\n",
    "        data = response.json()\n",
    "        df = pd.DataFrame.from_dict(data['data'], orient='index')\n",
    "        return df\n",
    "    else:\n",
    "        print(\"Failed to fetch data. Check the item ID or API status.\")\n",
    "\n",
    "def fetch_historical(item_id: int):\n",
    "    url = f\"https://api.weirdgloop.org/exchange/history/osrs/all?id={item_id}\"\n",
    "    response = requests.get(url, headers=headers)\n",
    "\n",
    "    if response.status_code == 200:\n",
    "        data = response.json()\n",
    "\n",
    "        records = []\n",
    "        for item_id, entries in data.items():\n",
    "            for entry in entries:\n",
    "                records.append(entry)\n",
    "\n",
    "        df = pd.DataFrame(records)\n",
    "        df['timestamp'] = pd.to_datetime(df['timestamp'], unit='ms')\n",
    "\n",
    "        return df\n",
    "    else:\n",
    "        print(\"Failed to fetch data. Check the item ID or API status.\")"
   ]
  },
  {
   "cell_type": "code",
   "execution_count": 12,
   "id": "ef974f93",
   "metadata": {},
   "outputs": [
    {
     "name": "stdout",
     "output_type": "stream",
     "text": [
      "4151|49430\n"
     ]
    }
   ],
   "source": [
    "# Testing\n",
    "test = [4151, 49430]\n",
    "test = list(map(str, test))\n",
    "\n",
    "items = '|'.join([i for i in test])\n",
    "\n",
    "print(items)"
   ]
  }
 ],
 "metadata": {
  "kernelspec": {
   "display_name": ".venv",
   "language": "python",
   "name": "python3"
  },
  "language_info": {
   "codemirror_mode": {
    "name": "ipython",
    "version": 3
   },
   "file_extension": ".py",
   "mimetype": "text/x-python",
   "name": "python",
   "nbconvert_exporter": "python",
   "pygments_lexer": "ipython3",
   "version": "3.13.3"
  }
 },
 "nbformat": 4,
 "nbformat_minor": 5
}
