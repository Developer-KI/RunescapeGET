{
 "cells": [
  {
   "cell_type": "code",
   "execution_count": null,
   "id": "c02a425a",
   "metadata": {},
   "outputs": [],
   "source": [
    "import pandas as pd\n",
    "import numpy as np\n",
    "import matplotlib.pyplot as plt\n",
    "import seaborn as sns\n",
    "from sklearn.model_selection import train_test_split\n",
    "from sklearn.ensemble import RandomForestRegressor\n",
    "from sklearn.metrics import mean_absolute_error, r2_score\n",
    "import APIFetcher as API"
   ]
  },
  {
   "cell_type": "code",
   "execution_count": 5,
   "id": "21e4c390",
   "metadata": {},
   "outputs": [
    {
     "name": "stderr",
     "output_type": "stream",
     "text": [
      "c:\\Users\\Mstav\\RunescapeGET\\RunescapeGET\\ApiFetcher.py:88: FutureWarning: The behavior of DataFrame concatenation with empty or all-NA entries is deprecated. In a future version, this will no longer exclude empty or all-NA columns when determining the result dtypes. To retain the old behavior, exclude the relevant entries before the concat operation.\n",
      "  df = pd.concat([df, df_t], ignore_index=True)\n"
     ]
    }
   ],
   "source": [
    "n=100\n",
    "snapfifty = API.fetch_historical_5m(n)"
   ]
  },
  {
   "cell_type": "code",
   "execution_count": null,
   "id": "e9baa924",
   "metadata": {},
   "outputs": [
    {
     "name": "stdout",
     "output_type": "stream",
     "text": [
      "item_id  12934      1605  199         2  21326  21820  21902  231  2353  3024  \\\n",
      "item_id                                                                         \n",
      "12934      1.0       NaN  NaN       NaN    NaN    NaN    NaN  NaN   NaN   NaN   \n",
      "1605       NaN  1.000000  NaN  0.723344    NaN    NaN    NaN  NaN   NaN   NaN   \n",
      "199        NaN       NaN  1.0       NaN    NaN    NaN    NaN  NaN   NaN   NaN   \n",
      "2          NaN  0.723344  NaN  1.000000    NaN    NaN    NaN  NaN   NaN   NaN   \n",
      "21326      NaN       NaN  NaN       NaN    1.0    NaN    NaN  NaN   NaN   NaN   \n",
      "21820      NaN       NaN  NaN       NaN    NaN    1.0    NaN  NaN   NaN   NaN   \n",
      "21902      NaN       NaN  NaN       NaN    NaN    NaN    1.0  NaN   NaN   NaN   \n",
      "231        NaN       NaN  NaN       NaN    NaN    NaN    NaN  1.0   NaN   NaN   \n",
      "2353       NaN       NaN  NaN       NaN    NaN    NaN    NaN  NaN   1.0   NaN   \n",
      "3024       NaN       NaN  NaN       NaN    NaN    NaN    NaN  NaN   NaN   1.0   \n",
      "440        NaN  0.792155  NaN       NaN    NaN    NaN    NaN  NaN   NaN   NaN   \n",
      "453        NaN       NaN  NaN       NaN    NaN    NaN    NaN  NaN   NaN   NaN   \n",
      "5295       NaN       NaN  NaN       NaN    NaN    NaN    NaN  NaN   NaN   NaN   \n",
      "536        NaN       NaN  NaN       NaN    NaN    NaN    NaN  NaN   NaN   NaN   \n",
      "560        NaN       NaN  NaN       NaN    NaN    NaN    NaN  NaN   NaN   NaN   \n",
      "561        NaN       NaN  NaN       NaN    NaN    NaN    NaN  NaN   NaN   NaN   \n",
      "562        NaN       NaN  NaN       NaN    NaN    NaN    NaN  NaN   NaN   NaN   \n",
      "563        NaN       NaN  NaN       NaN    NaN    NaN    NaN  NaN   NaN   NaN   \n",
      "565        NaN       NaN  NaN       NaN    NaN    NaN    NaN  NaN   NaN   NaN   \n",
      "566        NaN  0.786758  NaN       NaN    NaN    NaN    NaN  NaN   NaN   NaN   \n",
      "892        NaN       NaN  NaN       NaN    NaN    NaN    NaN  NaN   NaN   NaN   \n",
      "\n",
      "item_id  ...  453  5295  536  560  561  562  563  565       566  892  \n",
      "item_id  ...                                                          \n",
      "12934    ...  NaN   NaN  NaN  NaN  NaN  NaN  NaN  NaN       NaN  NaN  \n",
      "1605     ...  NaN   NaN  NaN  NaN  NaN  NaN  NaN  NaN  0.786758  NaN  \n",
      "199      ...  NaN   NaN  NaN  NaN  NaN  NaN  NaN  NaN       NaN  NaN  \n",
      "2        ...  NaN   NaN  NaN  NaN  NaN  NaN  NaN  NaN       NaN  NaN  \n",
      "21326    ...  NaN   NaN  NaN  NaN  NaN  NaN  NaN  NaN       NaN  NaN  \n",
      "21820    ...  NaN   NaN  NaN  NaN  NaN  NaN  NaN  NaN       NaN  NaN  \n",
      "21902    ...  NaN   NaN  NaN  NaN  NaN  NaN  NaN  NaN       NaN  NaN  \n",
      "231      ...  NaN   NaN  NaN  NaN  NaN  NaN  NaN  NaN       NaN  NaN  \n",
      "2353     ...  NaN   NaN  NaN  NaN  NaN  NaN  NaN  NaN       NaN  NaN  \n",
      "3024     ...  NaN   NaN  NaN  NaN  NaN  NaN  NaN  NaN       NaN  NaN  \n",
      "440      ...  NaN   NaN  NaN  NaN  NaN  NaN  NaN  NaN       NaN  NaN  \n",
      "453      ...  1.0   NaN  NaN  NaN  NaN  NaN  NaN  NaN       NaN  NaN  \n",
      "5295     ...  NaN   1.0  NaN  NaN  NaN  NaN  NaN  NaN       NaN  NaN  \n",
      "536      ...  NaN   NaN  1.0  NaN  NaN  NaN  NaN  NaN       NaN  NaN  \n",
      "560      ...  NaN   NaN  NaN  1.0  NaN  NaN  NaN  NaN       NaN  NaN  \n",
      "561      ...  NaN   NaN  NaN  NaN  1.0  NaN  NaN  NaN       NaN  NaN  \n",
      "562      ...  NaN   NaN  NaN  NaN  NaN  1.0  NaN  NaN       NaN  NaN  \n",
      "563      ...  NaN   NaN  NaN  NaN  NaN  NaN  1.0  NaN       NaN  NaN  \n",
      "565      ...  NaN   NaN  NaN  NaN  NaN  NaN  NaN  1.0       NaN  NaN  \n",
      "566      ...  NaN   NaN  NaN  NaN  NaN  NaN  NaN  NaN  1.000000  NaN  \n",
      "892      ...  NaN   NaN  NaN  NaN  NaN  NaN  NaN  NaN       NaN  1.0  \n",
      "\n",
      "[21 rows x 21 columns]\n"
     ]
    }
   ],
   "source": [
    "#grab ID's with rows with NaN values == TRUE\n",
    "NAindex=snapfifty[snapfifty.isna().any(axis=1)]['item_id'].unique()\n",
    "snapfiftyprune = snapfifty[~snapfifty[\"item_id\"].isin(NAindex)]\n",
    "#removing low volume items\n",
    "snapfiftyprunegroup= snapfiftyprune.groupby('item_id').nunique()\n",
    "#n-1 to ensure proper ranging\n",
    "filtered_indexes = snapfiftyprunegroup[snapfiftyprunegroup['timestamp'] != n-1].index\n",
    "snapfiftyprune=snapfiftyprune[~snapfiftyprune['item_id'].isin(filtered_indexes)]\n",
    "#rechecking groupings for n timestamps\n",
    "snapfiftyprunegroup= snapfiftyprune.groupby('item_id').nunique()\n",
    "#Weighted average of High/Low Price by High/Low Volume\n",
    "snapfiftyprune['totalvol']=snapfiftyprune['highPriceVolume']+snapfiftyprune['lowPriceVolume']\n",
    "snapfiftyprune['wprice']=(snapfiftyprune['highPriceVolume']/snapfiftyprune['totalvol'])*(snapfiftyprune['avgHighPrice']-snapfiftyprune['avgLowPrice'])+snapfiftyprune['avgLowPrice']\n",
    "#transforming panel data to price and volume matrices\n",
    "price_matrix_snapfifty=snapfiftyprune.pivot(index=\"timestamp\", columns=\"item_id\", values=\"wprice\")\n",
    "vol_matrix_snapfifty=snapfiftyprune.pivot(index='timestamp', columns='item_id', values='totalvol')\n",
    "corr_price_snapfifty=price_matrix_snapfifty.corr()\n",
    "corr_vol_snapfifty=vol_matrix_snapfifty.corr()\n",
    "print(corr_price_snapfifty[corr_price_snapfifty > 0.7])\n"
   ]
  },
  {
   "cell_type": "code",
   "execution_count": 31,
   "id": "fd7d9efb",
   "metadata": {},
   "outputs": [
    {
     "name": "stdout",
     "output_type": "stream",
     "text": [
      "(2079,)\n"
     ]
    }
   ],
   "source": [
    "#volatility\n",
    "volatilityitems = price_matrix_snapfifty.rolling(window=4).std()\n",
    "volatilitymarket= volatilityitems.sum(axis=1)\n",
    "#Dividing by shape as count of row/column length\n",
    "volatilitymarket=volatilitymarket/price_matrix_snapfifty.shape[1]\n",
    "volatilitymarket\n",
    "print(snapfiftyprune['totalvol'].shape)"
   ]
  },
  {
   "cell_type": "code",
   "execution_count": null,
   "id": "6b485c97",
   "metadata": {},
   "outputs": [
    {
     "data": {
      "application/vnd.microsoft.datawrangler.viewer.v0+json": {
       "columns": [
        {
         "name": "timestamp",
         "rawType": "int64",
         "type": "integer"
        },
        {
         "name": "ID 1605 Volume",
         "rawType": "object",
         "type": "unknown"
        },
        {
         "name": "ID 1605 Price",
         "rawType": "object",
         "type": "unknown"
        },
        {
         "name": "ID 440 Volume",
         "rawType": "object",
         "type": "unknown"
        },
        {
         "name": "ID 440 Price",
         "rawType": "object",
         "type": "unknown"
        }
       ],
       "conversionMethod": "pd.DataFrame",
       "ref": "0f509259-d4ec-4708-9690-73616080e7a1",
       "rows": [
        [
         "1746891900",
         "1783",
         "398.98710039259674",
         "18981",
         "176.21158000105368"
        ],
        [
         "1746892200",
         "1070",
         "395.2383177570093",
         "15177",
         "176.0021084535811"
        ],
        [
         "1746892500",
         "978",
         "392.50102249488754",
         "23141",
         "178.29946847586535"
        ],
        [
         "1746892800",
         "793",
         "392.6456494325347",
         "17729",
         "177.5949010096452"
        ],
        [
         "1746893100",
         "1859",
         "395.37493275954813",
         "73980",
         "175.0"
        ],
        [
         "1746893400",
         "2077",
         "396.06547905633124",
         "37351",
         "173.91598618510884"
        ],
        [
         "1746893700",
         "1456",
         "396.5116758241758",
         "42292",
         "173.88756738863142"
        ],
        [
         "1746894000",
         "478",
         "394.68619246861925",
         "16237",
         "173.06737697850588"
        ],
        [
         "1746894300",
         "593",
         "395.70657672849916",
         "4710",
         "173.14670912951166"
        ],
        [
         "1746894600",
         "2124",
         "395.8813559322034",
         "10999",
         "173.3081189199018"
        ],
        [
         "1746894900",
         "2119",
         "392.9712128362435",
         "43149",
         "173.8340633618392"
        ],
        [
         "1746895200",
         "1773",
         "396.21601804850536",
         "31763",
         "173.32657494569153"
        ],
        [
         "1746895500",
         "4790",
         "394.19958246346556",
         "15760",
         "172.10862944162437"
        ],
        [
         "1746895800",
         "4359",
         "394.36338609772884",
         "4631",
         "172.72770459943857"
        ],
        [
         "1746896100",
         "13281",
         "393.94096830057975",
         "3120",
         "171.09807692307692"
        ],
        [
         "1746896400",
         "4018",
         "394.4440019910403",
         "21399",
         "173.00182251507078"
        ],
        [
         "1746896700",
         "6141",
         "395.2525647288715",
         "17373",
         "172.05623668911528"
        ],
        [
         "1746897000",
         "6980",
         "394.6994269340974",
         "66665",
         "172.1476636915923"
        ],
        [
         "1746897300",
         "4654",
         "395.9278040395359",
         "6043",
         "172.10325997021346"
        ],
        [
         "1746897600",
         "11693",
         "393.30505430599504",
         "14969",
         "172.60090854432494"
        ],
        [
         "1746897900",
         "3155",
         "395.20507131537244",
         "1572",
         "172.29007633587787"
        ],
        [
         "1746898200",
         "4332",
         "391.0480147737766",
         "9750",
         "171.84656410256412"
        ],
        [
         "1746898500",
         "512",
         "390.734375",
         "8366",
         "171.48266794166867"
        ],
        [
         "1746898800",
         "5006",
         "393.4182980423492",
         "49965",
         "172.61759231462023"
        ],
        [
         "1746899100",
         "8467",
         "400.47915436400143",
         "61776",
         "172.50553613053614"
        ],
        [
         "1746899400",
         "15752",
         "394.63509395632303",
         "38464",
         "173.21932196339435"
        ],
        [
         "1746899700",
         "11750",
         "393.96059574468086",
         "47751",
         "172.2815857259534"
        ],
        [
         "1746900000",
         "827",
         "393.0229746070133",
         "37549",
         "171.79663905829716"
        ],
        [
         "1746900300",
         "517",
         "393.1547388781431",
         "23209",
         "173.11560170623466"
        ],
        [
         "1746900600",
         "4336",
         "398.0770295202952",
         "26954",
         "172.10321288120502"
        ],
        [
         "1746900900",
         "1078",
         "396.00463821892396",
         "13561",
         "171.1771255807094"
        ],
        [
         "1746901200",
         "335",
         "396.00298507462685",
         "21203",
         "171.0"
        ],
        [
         "1746901500",
         "4041",
         "396.1509527344717",
         "44975",
         "172.68633685380766"
        ],
        [
         "1746901800",
         "2328",
         "398.23883161512026",
         "11303",
         "172.6116075378218"
        ],
        [
         "1746902100",
         "1324",
         "397.8549848942598",
         "27030",
         "173.7930077691454"
        ],
        [
         "1746902400",
         "1789",
         "395.0743432084964",
         "40609",
         "173.83001305129406"
        ],
        [
         "1746902700",
         "324",
         "395.05864197530866",
         "36824",
         "171.05865739734955"
        ],
        [
         "1746903000",
         "2888",
         "402.6745152354571",
         "16304",
         "172.14947252208046"
        ],
        [
         "1746903300",
         "3948",
         "398.008358662614",
         "15857",
         "174.66311408210885"
        ],
        [
         "1746903600",
         "3819",
         "401.9575805184603",
         "20774",
         "173.70251275633004"
        ],
        [
         "1746903900",
         "5343",
         "405.80572711959576",
         "9708",
         "173.75669550885868"
        ],
        [
         "1746904200",
         "7664",
         "406.68162839248436",
         "11176",
         "171.6791338582677"
        ],
        [
         "1746904500",
         "8173",
         "405.5316285329744",
         "23159",
         "173.66216157865193"
        ],
        [
         "1746904800",
         "1894",
         "404.6156282998944",
         "18155",
         "174.3240980446158"
        ],
        [
         "1746905100",
         "1392",
         "408.1278735632184",
         "46328",
         "174.18407874287686"
        ],
        [
         "1746905400",
         "6681",
         "403.4966322406825",
         "18805",
         "180.23493751661792"
        ],
        [
         "1746905700",
         "6211",
         "404.9259378521977",
         "4804",
         "179.06577851790175"
        ],
        [
         "1746906000",
         "7218",
         "406.1345247991133",
         "29032",
         "181.7343620832185"
        ],
        [
         "1746906300",
         "2147",
         "408.6469492314858",
         "20730",
         "181.44457308248914"
        ],
        [
         "1746906600",
         "2834",
         "410.52187720536347",
         "59090",
         "180.20067693349128"
        ]
       ],
       "shape": {
        "columns": 4,
        "rows": 98
       }
      },
      "text/html": [
       "<div>\n",
       "<style scoped>\n",
       "    .dataframe tbody tr th:only-of-type {\n",
       "        vertical-align: middle;\n",
       "    }\n",
       "\n",
       "    .dataframe tbody tr th {\n",
       "        vertical-align: top;\n",
       "    }\n",
       "\n",
       "    .dataframe thead th {\n",
       "        text-align: right;\n",
       "    }\n",
       "</style>\n",
       "<table border=\"1\" class=\"dataframe\">\n",
       "  <thead>\n",
       "    <tr style=\"text-align: right;\">\n",
       "      <th></th>\n",
       "      <th>ID 1605 Volume</th>\n",
       "      <th>ID 1605 Price</th>\n",
       "      <th>ID 440 Volume</th>\n",
       "      <th>ID 440 Price</th>\n",
       "    </tr>\n",
       "    <tr>\n",
       "      <th>timestamp</th>\n",
       "      <th></th>\n",
       "      <th></th>\n",
       "      <th></th>\n",
       "      <th></th>\n",
       "    </tr>\n",
       "  </thead>\n",
       "  <tbody>\n",
       "    <tr>\n",
       "      <th>1746891900</th>\n",
       "      <td>1783</td>\n",
       "      <td>398.9871</td>\n",
       "      <td>18981</td>\n",
       "      <td>176.21158</td>\n",
       "    </tr>\n",
       "    <tr>\n",
       "      <th>1746892200</th>\n",
       "      <td>1070</td>\n",
       "      <td>395.238318</td>\n",
       "      <td>15177</td>\n",
       "      <td>176.002108</td>\n",
       "    </tr>\n",
       "    <tr>\n",
       "      <th>1746892500</th>\n",
       "      <td>978</td>\n",
       "      <td>392.501022</td>\n",
       "      <td>23141</td>\n",
       "      <td>178.299468</td>\n",
       "    </tr>\n",
       "    <tr>\n",
       "      <th>1746892800</th>\n",
       "      <td>793</td>\n",
       "      <td>392.645649</td>\n",
       "      <td>17729</td>\n",
       "      <td>177.594901</td>\n",
       "    </tr>\n",
       "    <tr>\n",
       "      <th>1746893100</th>\n",
       "      <td>1859</td>\n",
       "      <td>395.374933</td>\n",
       "      <td>73980</td>\n",
       "      <td>175.0</td>\n",
       "    </tr>\n",
       "    <tr>\n",
       "      <th>...</th>\n",
       "      <td>...</td>\n",
       "      <td>...</td>\n",
       "      <td>...</td>\n",
       "      <td>...</td>\n",
       "    </tr>\n",
       "    <tr>\n",
       "      <th>1746919800</th>\n",
       "      <td>16876</td>\n",
       "      <td>411.067552</td>\n",
       "      <td>19545</td>\n",
       "      <td>181.41888</td>\n",
       "    </tr>\n",
       "    <tr>\n",
       "      <th>1746920100</th>\n",
       "      <td>10539</td>\n",
       "      <td>413.437328</td>\n",
       "      <td>9943</td>\n",
       "      <td>182.973549</td>\n",
       "    </tr>\n",
       "    <tr>\n",
       "      <th>1746920400</th>\n",
       "      <td>11316</td>\n",
       "      <td>410.929215</td>\n",
       "      <td>34485</td>\n",
       "      <td>181.675337</td>\n",
       "    </tr>\n",
       "    <tr>\n",
       "      <th>1746920700</th>\n",
       "      <td>5694</td>\n",
       "      <td>410.317703</td>\n",
       "      <td>50021</td>\n",
       "      <td>182.240459</td>\n",
       "    </tr>\n",
       "    <tr>\n",
       "      <th>1746921000</th>\n",
       "      <td>6977</td>\n",
       "      <td>411.222302</td>\n",
       "      <td>18146</td>\n",
       "      <td>181.807451</td>\n",
       "    </tr>\n",
       "  </tbody>\n",
       "</table>\n",
       "<p>98 rows × 4 columns</p>\n",
       "</div>"
      ],
      "text/plain": [
       "           ID 1605 Volume ID 1605 Price ID 440 Volume ID 440 Price\n",
       "timestamp                                                         \n",
       "1746891900           1783      398.9871         18981    176.21158\n",
       "1746892200           1070    395.238318         15177   176.002108\n",
       "1746892500            978    392.501022         23141   178.299468\n",
       "1746892800            793    392.645649         17729   177.594901\n",
       "1746893100           1859    395.374933         73980        175.0\n",
       "...                   ...           ...           ...          ...\n",
       "1746919800          16876    411.067552         19545    181.41888\n",
       "1746920100          10539    413.437328          9943   182.973549\n",
       "1746920400          11316    410.929215         34485   181.675337\n",
       "1746920700           5694    410.317703         50021   182.240459\n",
       "1746921000           6977    411.222302         18146   181.807451\n",
       "\n",
       "[98 rows x 4 columns]"
      ]
     },
     "metadata": {},
     "output_type": "display_data"
    },
    {
     "data": {
      "text/plain": [
       "timestamp\n",
       "1746892200    176.002108\n",
       "1746892500    178.299468\n",
       "1746892800    177.594901\n",
       "1746893100         175.0\n",
       "1746893400    173.915986\n",
       "                 ...    \n",
       "1746920100    182.973549\n",
       "1746920400    181.675337\n",
       "1746920700    182.240459\n",
       "1746921000    181.807451\n",
       "1746921300    182.184906\n",
       "Name: 440, Length: 98, dtype: object"
      ]
     },
     "metadata": {},
     "output_type": "display_data"
    }
   ],
   "source": [
    "#440 1605 item id\n",
    "\n",
    "features= vol_matrix_snapfifty['1605'].iloc[0:98]\n",
    "features=pd.concat([features, price_matrix_snapfifty[\"1605\"]], axis=1).iloc[0:98]\n",
    "features=pd.concat([features, vol_matrix_snapfifty[\"440\"]], axis=1).iloc[0:98]\n",
    "features=pd.concat([features, price_matrix_snapfifty[\"440\"]], axis=1).iloc[0:98]\n",
    "features.columns=['ID 1605 Volume','ID 1605 Price','ID 440 Volume','ID 440 Price']\n",
    "target=price_matrix_snapfifty['440'].iloc[1:100]"
   ]
  },
  {
   "cell_type": "code",
   "execution_count": null,
   "id": "304960b5",
   "metadata": {},
   "outputs": [
    {
     "name": "stdout",
     "output_type": "stream",
     "text": [
      "[179.37625576 173.82290544 181.75382353 172.00138672 178.39924782\n",
      " 178.69804578 178.96279305 173.82773248 172.1598382  177.67721234\n",
      " 172.23621896 177.3190424  181.18358435 172.36013213 173.86261602\n",
      " 173.32505458 172.17042635 172.08220509 179.31103787 179.42657678]\n"
     ]
    }
   ],
   "source": [
    "#440 1605 item id\n",
    "\n",
    "\n",
    "# Split data into training and testing sets\n",
    "X_train, X_test, y_train, y_test = train_test_split(features, target, test_size=0.2, random_state=42)\n",
    "\n",
    "# Initialize and train the Random Forest Regressor\n",
    "rf_model = RandomForestRegressor(n_estimators=100, random_state=42)\n",
    "rf_model.fit(X_train, y_train)\n",
    "\n",
    "# Make predictions\n",
    "y_pred = rf_model.predict(X_test)\n",
    "print(y_pred)\n",
    "\n",
    "y_pred = rf_model.predict(X_test)  # Predicted values\n",
    "df_pred = pd.DataFrame({\"timestamp\": df_actual[\"timestamp\"], \"predicted_price\": y_pred})"
   ]
  }
 ],
 "metadata": {
  "kernelspec": {
   "display_name": ".venv",
   "language": "python",
   "name": "python3"
  },
  "language_info": {
   "codemirror_mode": {
    "name": "ipython",
    "version": 3
   },
   "file_extension": ".py",
   "mimetype": "text/x-python",
   "name": "python",
   "nbconvert_exporter": "python",
   "pygments_lexer": "ipython3",
   "version": "3.13.3"
  }
 },
 "nbformat": 4,
 "nbformat_minor": 5
}
