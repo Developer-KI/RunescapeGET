{
 "cells": [
  {
   "cell_type": "code",
   "execution_count": null,
   "id": "ddc3f65b",
   "metadata": {},
   "outputs": [],
   "source": [
    "import pandas as pd\n",
    "import matplotlib.pyplot as plt\n",
    "import APIFetcher as API\n",
    "\n",
    "plt.rcParams.update({\n",
    "    'axes.facecolor': '#2E2E2E',\n",
    "    'figure.facecolor': '#1E1E1E',\n",
    "    'axes.labelcolor': 'white',\n",
    "    'xtick.color': 'white',\n",
    "    'ytick.color': 'white',\n",
    "    'grid.color': '#444444',\n",
    "    'axes.edgecolor': 'white'\n",
    "})"
   ]
  },
  {
   "cell_type": "code",
   "execution_count": null,
   "id": "316e62c5",
   "metadata": {},
   "outputs": [],
   "source": [
    "item_r = pd.read_csv('../data/data.csv', names=['item_id', 'avgHighPrice', 'highPriceVolume', 'avgLowPrice', 'lowPriceVolume', 'timestamp'])\n",
    "with open(\"../data/data_properties.txt\", \"r\") as file:\n",
    "            lines = file.readlines()\n",
    "series_lenght = int(lines[1].replace(\"\\n\", \"\"))\n",
    "G_item_r = item_r.groupby('item_id').nunique()"
   ]
  },
  {
   "cell_type": "code",
   "execution_count": null,
   "id": "c3087577",
   "metadata": {},
   "outputs": [],
   "source": [
    "#n-1 to ensure proper time series ranging\n",
    "filtered_indexes = G_item_r[G_item_r['timestamp'] != series_lenght].index\n",
    "item_r = item_r[~item_r['item_id'].isin(filtered_indexes)]\n",
    "# interpolate missing values\n",
    "item_r = item_r.interpolate()\n",
    "#Weighted average of High/Low Price by High/Low Volume\n",
    "item_r['totalvol'] = item_r['highPriceVolume'] + item_r['lowPriceVolume']\n",
    "item_r['wprice'] = (item_r['highPriceVolume']/item_r['totalvol']) * (item_r['avgHighPrice'] - item_r['avgLowPrice']) + item_r['avgLowPrice']\n",
    "#transforming panel data to price and volume matrices\n",
    "price_matrix_items = item_r.pivot(index=\"timestamp\", columns=\"item_id\", values=\"wprice\")\n",
    "vol_matrix_items = item_r.pivot(index='timestamp', columns='item_id', values='totalvol')\n",
    "corr_price_items = price_matrix_items.corr()\n",
    "corr_vol_items = vol_matrix_items.corr()"
   ]
  },
  {
   "cell_type": "code",
   "execution_count": null,
   "id": "a59cc58a",
   "metadata": {},
   "outputs": [],
   "source": [
    "#volatility\n",
    "volativity_sensitivity = 50\n",
    "volatilityitems = price_matrix_items.rolling(window=volativity_sensitivity).std()\n",
    "volatilitymarket = volatilityitems.sum(axis=1)\n",
    "#Dividing by shape as count of row/column length\n",
    "volatilitymarket = volatilitymarket/corr_price_items.shape[1]"
   ]
  },
  {
   "cell_type": "code",
   "execution_count": null,
   "id": "276dd7bb",
   "metadata": {},
   "outputs": [],
   "source": [
    "plt.figure(figsize=(10, 5))\n",
    "plt.plot(pd.to_datetime(volatilitymarket.iloc[volativity_sensitivity:].index, unit='s'), volatilitymarket.iloc[volativity_sensitivity:], marker=\"o\", markersize='2', linestyle=\"-\", label=\"Standard Deviation\")\n",
    "\n",
    "plt.xlabel(\"Time\")\n",
    "plt.ylabel(\"Standard Deviation (SD)\")\n",
    "plt.title(\"OSRS Market Volatility\")\n",
    "plt.legend()\n",
    "plt.xticks(rotation=45)  # Rotate timestamps for clarity\n",
    "plt.grid()\n",
    "\n",
    "# Show the plot\n",
    "plt.show()"
   ]
  },
  {
   "cell_type": "code",
   "execution_count": null,
   "id": "57a8af69",
   "metadata": {},
   "outputs": [],
   "source": [
    "nature = API.fetch_historical(561)\n",
    "plt.figure(figsize=(10, 5))\n",
    "plt.plot(nature['timestamp'], nature['price'], marker=\"o\", markersize='2', linestyle=\"-\", label=\"Nature Rune Price\")\n",
    "\n",
    "plt.xlabel(\"Time\")\n",
    "plt.ylabel(\"Price (GP)\")\n",
    "plt.title(\"OSRS Grand Exchange Price Trend\")\n",
    "plt.legend()\n",
    "plt.xticks(rotation=45)  # Rotate timestamps for clarity\n",
    "plt.grid()\n",
    "\n",
    "# Show the plot\n",
    "plt.show()\n"
   ]
  }
 ],
 "metadata": {
  "kernelspec": {
   "display_name": ".venv",
   "language": "python",
   "name": "python3"
  },
  "language_info": {
   "codemirror_mode": {
    "name": "ipython",
    "version": 3
   },
   "file_extension": ".py",
   "mimetype": "text/x-python",
   "name": "python",
   "nbconvert_exporter": "python",
   "pygments_lexer": "ipython3",
   "version": "3.13.3"
  }
 },
 "nbformat": 4,
 "nbformat_minor": 5
}
